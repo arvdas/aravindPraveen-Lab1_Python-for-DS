{
 "cells": [
  {
   "cell_type": "markdown",
   "id": "2c8f47d3",
   "metadata": {
    "id": "2c8f47d3"
   },
   "source": [
    "# Lab Session"
   ]
  },
  {
   "cell_type": "markdown",
   "id": "f637aba6",
   "metadata": {
    "id": "f637aba6"
   },
   "source": [
    "## <font color='blue'> Table Of Contents </font>\n",
    "- Problem Statement \n",
    "- Load required libraries\n",
    "- Connect to DB using mysql-connector-python package\n",
    "- Create database named `e_commerce`\n",
    "- Create tables and insert data into tables as specified in the question\n",
    "- Read all the questions and write sql queries to meet the objective "
   ]
  },
  {
   "cell_type": "markdown",
   "id": "1073fc90",
   "metadata": {
    "id": "1073fc90"
   },
   "source": [
    "## <font color='blue'> Problem Statement </font>\n",
    "###  An E-commerce website manages its data in the form of various tables.\n",
    "You need to create a Database called `e_commerce` and various tables in it. The tables needed and attributes which need to be in every table are given before hand. All you have to do is create tables with data in it and answer some of the questions that follows."
   ]
  },
  {
   "cell_type": "markdown",
   "id": "48787355",
   "metadata": {
    "id": "48787355"
   },
   "source": [
    "### e_commerce Schema:"
   ]
  },
  {
   "cell_type": "markdown",
   "id": "78938fbc",
   "metadata": {
    "id": "78938fbc"
   },
   "source": [
    "![e_commerce%20_schema.png](attachment:e_commerce%20_schema.png)"
   ]
  },
  {
   "cell_type": "markdown",
   "id": "d9abe6c7",
   "metadata": {
    "id": "d9abe6c7"
   },
   "source": [
    "### Load Required Libraries"
   ]
  },
  {
   "cell_type": "code",
   "execution_count": 4,
   "id": "0178d08e",
   "metadata": {
    "id": "0178d08e"
   },
   "outputs": [],
   "source": [
    "import mysql.connector\n",
    "import pandas as pd"
   ]
  },
  {
   "cell_type": "markdown",
   "id": "d7d7fd5c",
   "metadata": {
    "id": "d7d7fd5c"
   },
   "source": [
    "### Connect to DB using Mysql-connector-python package"
   ]
  },
  {
   "cell_type": "code",
   "execution_count": 5,
   "id": "ef7bef72",
   "metadata": {
    "id": "ef7bef72"
   },
   "outputs": [],
   "source": [
    "mydb = mysql.connector.connect(\n",
    "  host=\"localhost\",\n",
    "  user=\"root\",\n",
    "  password=\"Sidharth9114@\"\n",
    ")\n",
    "mycursor = mydb.cursor()"
   ]
  },
  {
   "cell_type": "markdown",
   "id": "9d55e510",
   "metadata": {
    "id": "9d55e510"
   },
   "source": [
    "### You are required to create a database named 'e_commerce'"
   ]
  },
  {
   "cell_type": "code",
   "execution_count": 4,
   "id": "42a154f2",
   "metadata": {
    "id": "42a154f2"
   },
   "outputs": [],
   "source": [
    "mycursor.execute(\"CREATE DATABASE e_commerce\")"
   ]
  },
  {
   "cell_type": "markdown",
   "id": "480dc986",
   "metadata": {
    "id": "480dc986"
   },
   "source": [
    "### Q1. Create tables for supplier, customer, category, product, productDetails, order, rating to store the data for the E-commerce with the schema definition given below.\n",
    "\n",
    "\n",
    "- **`supplier`**(SUPP_ID int primary key, SUPP_NAME varchar(50), SUPP_CITY varchar(50), SUPP_PHONE varchar(10))\n",
    "\n",
    "\n",
    "- **`customer`** (CUS_ID INT NOT NULL, CUS_NAME VARCHAR(20) NULL DEFAULT NULL, CUS_PHONE VARCHAR(10), CUS_CITY varchar(30) ,CUS_GENDER CHAR,PRIMARY KEY (CUS_ID))\n",
    "\n",
    "\n",
    "- **`category`** (CAT_ID INT NOT NULL, CAT_NAME VARCHAR(20) NULL DEFAULT NULL,PRIMARY KEY (CAT_ID))\n",
    "\n",
    "\n",
    "- **`product`** (PRO_ID INT NOT NULL, PRO_NAME VARCHAR(20) NULL DEFAULT NULL, PRO_DESC VARCHAR(60) NULL DEFAULT NULL, CAT_ID INT NOT NULL,PRIMARY KEY (PRO_ID),FOREIGN KEY (CAT_ID) REFERENCES CATEGORY (CAT_ID))\n",
    "\n",
    "\n",
    "- **`product_details`** (PROD_ID INT NOT NULL, PRO_ID INT NOT NULL, SUPP_ID INT NOT NULL, PROD_PRICE INT NOT NULL,\n",
    "  PRIMARY KEY (PROD_ID),FOREIGN KEY (PRO_ID) REFERENCES PRODUCT (PRO_ID), FOREIGN KEY (SUPP_ID) REFERENCES SUPPLIER(SUPP_ID))\n",
    "  \n",
    "  \n",
    "- **`order`** (ORD_ID INT NOT NULL, ORD_AMOUNT INT NOT NULL, ORD_DATE DATE, CUS_ID INT NOT NULL, PROD_ID INT NOT NULL,PRIMARY KEY (ORD_ID),FOREIGN KEY (CUS_ID) REFERENCES CUSTOMER(CUS_ID),FOREIGN KEY (PROD_ID) REFERENCES PRODUCT_DETAILS(PROD_ID))\n",
    "\n",
    "\n",
    "- **`rating`** (RAT_ID INT NOT NULL, CUS_ID INT NOT NULL, SUPP_ID INT NOT NULL, RAT_RATSTARS INT NOT NULL,PRIMARY KEY (RAT_ID),FOREIGN KEY (SUPP_ID) REFERENCES SUPPLIER (SUPP_ID),FOREIGN KEY (CUS_ID) REFERENCES CUSTOMER(CUS_ID))"
   ]
  },
  {
   "cell_type": "code",
   "execution_count": 7,
   "id": "09501801",
   "metadata": {},
   "outputs": [],
   "source": [
    "mycursor.execute(\"USE e_commerce\")"
   ]
  },
  {
   "cell_type": "code",
   "execution_count": 7,
   "id": "967b718f",
   "metadata": {
    "id": "967b718f"
   },
   "outputs": [],
   "source": [
    "\n",
    "mycursor.execute(\"USE e_commerce\")\n",
    "\n",
    "\n",
    "# Create supplier table\n",
    "mycursor.execute(\"CREATE TABLE supplier (SUPP_ID INT PRIMARY KEY, SUPP_NAME VARCHAR(50), SUPP_CITY VARCHAR(50), SUPP_PHONE VARCHAR(10))\")\n",
    "\n",
    "# Create customer table\n",
    "mycursor.execute(\"CREATE TABLE customer (CUS_ID INT NOT NULL, CUS_NAME VARCHAR(20) NULL DEFAULT NULL, CUS_PHONE VARCHAR(10), CUS_CITY VARCHAR(30), CUS_GENDER CHAR, PRIMARY KEY (CUS_ID))\")\n",
    "\n",
    "# Create category table\n",
    "mycursor.execute(\"CREATE TABLE category (CAT_ID INT NOT NULL, CAT_NAME VARCHAR(20) NULL DEFAULT NULL, PRIMARY KEY (CAT_ID))\")\n",
    "\n",
    "# Create product table\n",
    "mycursor.execute(\"CREATE TABLE product (PRO_ID INT NOT NULL, PRO_NAME VARCHAR(20) NULL DEFAULT NULL, PRO_DESC VARCHAR(60) NULL DEFAULT NULL, CAT_ID INT NOT NULL, PRIMARY KEY (PRO_ID), FOREIGN KEY (CAT_ID) REFERENCES CATEGORY (CAT_ID))\")\n",
    "\n",
    "# Create product_details table\n",
    "mycursor.execute(\"CREATE TABLE product_details (PROD_ID INT NOT NULL, PRO_ID INT NOT NULL, SUPP_ID INT NOT NULL, PROD_PRICE INT NOT NULL, PRIMARY KEY (PROD_ID), FOREIGN KEY (PRO_ID) REFERENCES PRODUCT (PRO_ID), FOREIGN KEY (SUPP_ID) REFERENCES SUPPLIER(SUPP_ID))\")\n",
    "\n",
    "# Create orders table\n",
    "mycursor.execute(\"CREATE TABLE orders (ORD_ID INT NOT NULL, ORD_AMOUNT INT NOT NULL, ORD_DATE DATE, CUS_ID INT NOT NULL, PROD_ID INT NOT NULL, PRIMARY KEY (ORD_ID), FOREIGN KEY (CUS_ID) REFERENCES CUSTOMER(CUS_ID), FOREIGN KEY (PROD_ID) REFERENCES PRODUCT_DETAILS(PROD_ID))\")\n",
    "\n",
    "# Create rating table\n",
    "mycursor.execute(\"CREATE TABLE rating (RAT_ID INT NOT NULL, CUS_ID INT NOT NULL, SUPP_ID INT NOT NULL, RAT_RATSTARS INT NOT NULL, PRIMARY KEY (RAT_ID), FOREIGN KEY (SUPP_ID) REFERENCES SUPPLIER (SUPP_ID), FOREIGN KEY (CUS_ID) REFERENCES CUSTOMER(CUS_ID))\")\n",
    "\n",
    "\n",
    "mydb.commit()\n"
   ]
  },
  {
   "cell_type": "markdown",
   "id": "1f653731",
   "metadata": {
    "id": "1f653731"
   },
   "source": [
    "### Q2. Insert the following data in the table created above\n",
    "#### `Note:` If you are getting any error while inserting the data into tables, Kindly close the connection and reconnect\n",
    "\n",
    "#### Table:  supplier\n",
    "| SUPP_ID | SUPP_NAME | SUPP_CITY | SUPP_PHONE |\n",
    "| --- | --- | --- | --- | \n",
    "| 1 | Rajesh Retails | Delhi | 1234567890 |\n",
    "| 2 | Appario Ltd. | Mumbai | 258963147032 | \n",
    "| 3 | Knome products | Bangalore | 9785462315 |\n",
    "| 4 | Bansal Retails | Kochi | 8975463285 |\n",
    "| 5 | Mittal Ltd. | Lucknow | 7898456532 |"
   ]
  },
  {
   "cell_type": "code",
   "execution_count": 9,
   "id": "f6dddd07",
   "metadata": {
    "id": "f6dddd07"
   },
   "outputs": [
    {
     "name": "stdout",
     "output_type": "stream",
     "text": [
      "5 rows inserted.\n"
     ]
    }
   ],
   "source": [
    "# insert into \"supplier\" table\n",
    "data = [\n",
    "    (1, 'Rajesh Retails', 'Delhi', '1234567890'),\n",
    "    (2, 'Appario Ltd.', 'Mumbai', '2589631470'),\n",
    "    (3, 'Knome products', 'Bangalore', '9785462315'),\n",
    "    (4, 'Bansal Retails', 'Kochi', '8975463285'),\n",
    "    (5, 'Mittal Ltd.', 'Lucknow', '7898456532')\n",
    "]\n",
    "\n",
    "# Prepare the SQL query\n",
    "sql = \"INSERT INTO supplier (SUPP_ID, SUPP_NAME, SUPP_CITY, SUPP_PHONE) VALUES (%s, %s, %s, %s)\"\n",
    "\n",
    "# Execute the query\n",
    "mycursor.executemany(sql, data)\n",
    "\n",
    "# Commit changes\n",
    "mydb.commit()\n",
    "\n",
    "\n"
   ]
  },
  {
   "cell_type": "markdown",
   "id": "e8a070a6",
   "metadata": {
    "id": "e8a070a6"
   },
   "source": [
    "#### Table:  customer\n",
    "| CUS_ID | CUS_NAME | SUPP_PHONE | CUS_CITY | CUS_GENDER\n",
    "| --- | --- | --- | --- | --- |\n",
    "| 1 | AAKASH | 9999999999 | DELHI | M |\n",
    "| 2 | AMAN | 9785463215 | NOIDA | M |\n",
    "| 3 | NEHA | 9999999998 | MUMBAI | F |\n",
    "| 4 | MEGHA | 9994562399 | KOLKATA | F |\n",
    "| 5 | PULKIT | 7895999999 | LUCKNOW | M |"
   ]
  },
  {
   "cell_type": "code",
   "execution_count": 10,
   "id": "15a4ee87",
   "metadata": {
    "id": "15a4ee87"
   },
   "outputs": [
    {
     "name": "stdout",
     "output_type": "stream",
     "text": [
      "5 rows inserted.\n"
     ]
    }
   ],
   "source": [
    "# insert into \"customer\" table\n",
    "data = [\n",
    "    (1, 'AAKASH', '9999999999', 'DELHI', 'M'),\n",
    "    (2, 'AMAN', '9785463215', 'NOIDA', 'M'),\n",
    "    (3, 'NEHA', '9999999998', 'MUMBAI', 'F'),\n",
    "    (4, 'MEGHA', '9994562399', 'KOLKATA', 'F'),\n",
    "    (5, 'PULKIT', '7895999999', 'LUCKNOW', 'M')\n",
    "]\n",
    "\n",
    "# Prepare the SQL query\n",
    "sql = \"INSERT INTO customer (CUS_ID, CUS_NAME, CUS_PHONE, CUS_CITY, CUS_GENDER) VALUES (%s, %s, %s, %s, %s)\"\n",
    "\n",
    "# Execute the query\n",
    "mycursor.executemany(sql, data)\n",
    "\n",
    "# Commit changes\n",
    "mydb.commit()\n",
    "\n"
   ]
  },
  {
   "cell_type": "markdown",
   "id": "b68bfbc2",
   "metadata": {
    "id": "b68bfbc2"
   },
   "source": [
    "#### Table:  category\n",
    "| CAT_ID | CAT_NAME | \n",
    "| --- | --- |  \n",
    "| 1 | BOOKS |\n",
    "| 2 | GAMES |  \n",
    "| 3 | GROCERIES | \n",
    "| 4 | ELECTRONICS | \n",
    "| 5 | CLOTHES | "
   ]
  },
  {
   "cell_type": "code",
   "execution_count": 11,
   "id": "05a00abc",
   "metadata": {
    "id": "05a00abc"
   },
   "outputs": [
    {
     "name": "stdout",
     "output_type": "stream",
     "text": [
      "5 rows inserted.\n"
     ]
    }
   ],
   "source": [
    "# insert into \"categoty\" table\n",
    "data = [\n",
    "    (1, 'BOOKS'),\n",
    "    (2, 'GAMES'),\n",
    "    (3, 'GROCERIES'),\n",
    "    (4, 'ELECTRONICS'),\n",
    "    (5, 'CLOTHES')\n",
    "]\n",
    "\n",
    "# Prepare the SQL query\n",
    "sql = \"INSERT INTO category (CAT_ID, CAT_NAME) VALUES (%s, %s)\"\n",
    "\n",
    "# Execute the query\n",
    "mycursor.executemany(sql, data)\n",
    "\n",
    "# Commit changes\n",
    "mydb.commit()\n",
    "\n"
   ]
  },
  {
   "cell_type": "markdown",
   "id": "eb3bc592",
   "metadata": {
    "id": "eb3bc592"
   },
   "source": [
    "#### Table:  product\n",
    "| PRO_ID | PRO_NAME | PRO_DESC | CAT_ID |\n",
    "| --- | --- | --- | --- | \n",
    "| 1 | GTA V | DFJDJFDJFDJFDJFJF | 2 |\n",
    "| 2 | TSHIRT | DFDFJDFJDKFD | 5 | \n",
    "| 3 | ROG LAPTOP | DFNTTNTNTERND | 4 |\n",
    "| 4 | OATS | REURENTBTOTH | 3 |\n",
    "| 5 | HARRY POTTER | NBEMCTHTJTH | 1 |\n"
   ]
  },
  {
   "cell_type": "code",
   "execution_count": 12,
   "id": "cdfbdfad",
   "metadata": {
    "id": "cdfbdfad"
   },
   "outputs": [
    {
     "name": "stdout",
     "output_type": "stream",
     "text": [
      "5 rows inserted.\n"
     ]
    }
   ],
   "source": [
    "# insert into \"product\" table\n",
    "data = [\n",
    "    (1, 'GTA V', 'DFJDJFDJFDJFDJFJF', 2),\n",
    "    (2, 'TSHIRT', 'DFDFJDFJDKFD', 5),\n",
    "    (3, 'ROG LAPTOP', 'DFNTTNTNTERND', 4),\n",
    "    (4, 'OATS', 'REURENTBTOTH', 3),\n",
    "    (5, 'HARRY POTTER', 'NBEMCTHTJTH', 1)\n",
    "]\n",
    "\n",
    "# Prepare the SQL query\n",
    "sql = \"INSERT INTO product (PRO_ID, PRO_NAME, PRO_DESC, CAT_ID) VALUES (%s, %s, %s, %s)\"\n",
    "\n",
    "# Execute the query\n",
    "mycursor.executemany(sql, data)\n",
    "\n",
    "# Commit changes\n",
    "mydb.commit()\n",
    "\n"
   ]
  },
  {
   "cell_type": "markdown",
   "id": "cfa8a47d",
   "metadata": {
    "id": "cfa8a47d"
   },
   "source": [
    "#### Table:  product_details\n",
    "| PROD_ID | PRO_ID | SUPP_ID | PROD_PRICE |\n",
    "| --- | --- | --- | --- | \n",
    "| 1 | 1 | 2 | 1500 |\n",
    "| 2 | 3 | 5 | 30000 | \n",
    "| 3 | 5 | 1 | 3000 |\n",
    "| 4 | 2 | 3 | 2500 |\n",
    "| 5 | 4 | 1 | 1000 |"
   ]
  },
  {
   "cell_type": "code",
   "execution_count": 15,
   "id": "c18ea964",
   "metadata": {
    "id": "c18ea964"
   },
   "outputs": [
    {
     "name": "stdout",
     "output_type": "stream",
     "text": [
      "5 rows inserted.\n"
     ]
    }
   ],
   "source": [
    "# insert into \"product_details\" table\n",
    "data = [\n",
    "    (1, 1, 2, 1500),\n",
    "    (2, 3, 5, 30000),\n",
    "    (3, 5, 1, 3000),\n",
    "    (4, 2, 3, 2500),\n",
    "  (5, 4, 1, 1000)\n",
    "]\n",
    "\n",
    "# Prepare the SQL query\n",
    "sql = \"INSERT INTO product_details (PROD_ID, PRO_ID, SUPP_ID, PROD_PRICE) VALUES (%s, %s, %s, %s)\"\n",
    "\n",
    "# Execute the query\n",
    "mycursor.executemany(sql, data)\n",
    "\n",
    "# Commit changes\n",
    "mydb.commit()\n",
    "\n",
    "\n"
   ]
  },
  {
   "cell_type": "markdown",
   "id": "1df49086",
   "metadata": {
    "id": "1df49086"
   },
   "source": [
    "#### Table:  orders\n",
    "| ORD_ID | ORD_AMOUNT | ORD_DATE | CUS_ID | PROD_ID\n",
    "| --- | --- | --- | --- | --- |\n",
    "| 20 | 1500 | 2021-10-12 | 3 | 5 |\n",
    "| 25 | 30500 | 2021-09-16 | 5 | 2 |\n",
    "| 26 | 2000 | 2021-10-05 | 1 | 1 |\n",
    "| 30 | 3500 | 2021-08-16 | 4 | 3 |\n",
    "| 50 | 2000 | 2021-10-06 | 2 | 1 |"
   ]
  },
  {
   "cell_type": "code",
   "execution_count": 17,
   "id": "0d97dc92",
   "metadata": {
    "id": "0d97dc92"
   },
   "outputs": [
    {
     "name": "stdout",
     "output_type": "stream",
     "text": [
      "5 rows inserted.\n"
     ]
    }
   ],
   "source": [
    "# insert into \"orders\" table\n",
    "data = [\n",
    "   (20, 1500, '2021-10-12', 3, 5),\n",
    "(25, 30500, '2021-09-16', 5, 2),\n",
    "(26, 2000, '2021-10-05', 1, 1),\n",
    "(30, 3500, '2021-08-16', 4, 3),\n",
    "(50, 2000, '2021-10-06', 2, 1)\n",
    "]\n",
    "\n",
    "# Prepare the SQL query\n",
    "sql = \"INSERT INTO orders (ORD_ID, ORD_AMOUNT, ORD_DATE, CUS_ID, PROD_ID) VALUES (%s, %s, %s, %s,%s)\"\n",
    "\n",
    "# Execute the query\n",
    "mycursor.executemany(sql, data)\n",
    "\n",
    "# Commit changes\n",
    "mydb.commit()\n",
    "\n"
   ]
  },
  {
   "cell_type": "markdown",
   "id": "75b8ce5f",
   "metadata": {
    "id": "75b8ce5f"
   },
   "source": [
    "#### Table: rating\n",
    "| RAT_ID | CUS_ID | SUPP_ID | RAT_RATSTARS |\n",
    "| --- | --- | --- | --- | \n",
    "| 1 | 2 | 2 | 4 |\n",
    "| 2 | 3 | 4 | 3 | \n",
    "| 3 | 5 | 1 | 5 |\n",
    "| 4 | 1 | 3 | 2 |\n",
    "| 5 | 4 | 5 | 4 |"
   ]
  },
  {
   "cell_type": "code",
   "execution_count": 18,
   "id": "6d5f1e18",
   "metadata": {
    "id": "6d5f1e18"
   },
   "outputs": [],
   "source": [
    "# insert into \"rating\" table\n",
    "data = [\n",
    "   (1,2,2,4),\n",
    "(2,3,4,3),\n",
    "(3,5,1,5),\n",
    "(4,1,3,2),\n",
    "(5,4,5,4)\n",
    "]\n",
    "\n",
    "# Prepare the SQL query\n",
    "sql = \"INSERT INTO rating (RAT_ID, CUS_ID, SUPP_ID,RAT_RATSTARS) VALUES (%s, %s, %s, %s)\"\n",
    "\n",
    "# Execute the query\n",
    "mycursor.executemany(sql, data)\n",
    "\n",
    "# Commit changes\n",
    "mydb.commit()"
   ]
  },
  {
   "cell_type": "markdown",
   "id": "b59361c3",
   "metadata": {
    "id": "b59361c3"
   },
   "source": [
    "### Q3) Display the number of the customer group by their genders who have placed any order of amount greater than or equal to Rs.3000."
   ]
  },
  {
   "cell_type": "code",
   "execution_count": 11,
   "id": "fcafaf3c",
   "metadata": {
    "id": "fcafaf3c"
   },
   "outputs": [
    {
     "data": {
      "text/plain": [
       "[('M', 1), ('F', 1)]"
      ]
     },
     "execution_count": 11,
     "metadata": {},
     "output_type": "execute_result"
    }
   ],
   "source": [
    "query=\"\"\"select c.CUS_GENDER,count(C.CUS_ID) from CUSTOMER as c join\n",
    "(select CUS_ID from ORDERS where ORD_AMOUNT >=3000) as\n",
    " Q on C.CUS_ID=Q.CUS_ID group by c.CUS_GENDER\"\"\"\n",
    "\n",
    "mycursor.execute(query)\n",
    "output=mycursor.fetchall()\n",
    "output"
   ]
  },
  {
   "cell_type": "markdown",
   "id": "e49e04f5",
   "metadata": {
    "id": "e49e04f5"
   },
   "source": [
    "### Q4) Display all the order along with product name ordered by a customer having Customer_Id=2;"
   ]
  },
  {
   "cell_type": "code",
   "execution_count": 13,
   "id": "9dcb7883",
   "metadata": {
    "id": "9dcb7883"
   },
   "outputs": [
    {
     "data": {
      "text/plain": [
       "[(50, 'GTA V')]"
      ]
     },
     "execution_count": 13,
     "metadata": {},
     "output_type": "execute_result"
    }
   ],
   "source": [
    "query1=\"\"\"select o.ORD_ID, p.PRO_NAME\n",
    "FROM orders as o\n",
    "INNER JOIN product_details as pd on o.PROD_ID = pd.PROD_ID\n",
    "INNER JOIN product as p on pd.PRO_ID = p.PRO_ID\n",
    "WHERE o.CUS_ID = 2\"\"\"\n",
    "mycursor.execute(query1)\n",
    "output=mycursor.fetchall()\n",
    "output"
   ]
  },
  {
   "cell_type": "markdown",
   "id": "3a33398e",
   "metadata": {
    "id": "3a33398e"
   },
   "source": [
    "### Q5) Display the Supplier details who can supply more than one product."
   ]
  },
  {
   "cell_type": "code",
   "execution_count": 15,
   "id": "e933b979",
   "metadata": {
    "id": "e933b979"
   },
   "outputs": [
    {
     "data": {
      "text/plain": [
       "[(1, 'Rajesh Retails', 'Delhi', '1234567890', 3, 5, 1, 3000)]"
      ]
     },
     "execution_count": 15,
     "metadata": {},
     "output_type": "execute_result"
    }
   ],
   "source": [
    "query2=\"\"\"select *\n",
    "FROM supplier as s\n",
    "INNER JOIN product_details as pd on s.SUPP_ID = pd.SUPP_ID\n",
    "GROUP BY s.SUPP_ID\n",
    "HAVING COUNT(DISTINCT pd.PRO_ID) > 1;\n",
    "\"\"\"\n",
    "mycursor.execute(query2)\n",
    "output=mycursor.fetchall()\n",
    "output"
   ]
  },
  {
   "cell_type": "markdown",
   "id": "5fd319ef",
   "metadata": {
    "id": "5fd319ef"
   },
   "source": [
    "### Q6) Find the category of the product whose order amount is minimum."
   ]
  },
  {
   "cell_type": "code",
   "execution_count": 18,
   "id": "06f5cb51",
   "metadata": {
    "id": "06f5cb51"
   },
   "outputs": [
    {
     "data": {
      "text/plain": [
       "[(3,)]"
      ]
     },
     "execution_count": 18,
     "metadata": {},
     "output_type": "execute_result"
    }
   ],
   "source": [
    "query3=\"\"\"select p.CAT_ID\n",
    "FROM product as p\n",
    "INNER JOIN product_details as pd on p.PRO_ID = pd.PRO_ID\n",
    "INNER JOIN orders as o on pd.PROD_ID = o.PROD_ID\n",
    "WHERE o.ORD_AMOUNT = (SELECT MIN(ORD_AMOUNT) FROM orders)\n",
    "\"\"\"\n",
    "mycursor.execute(query3)\n",
    "output=mycursor.fetchall()\n",
    "output"
   ]
  },
  {
   "cell_type": "markdown",
   "id": "107102d4",
   "metadata": {
    "id": "107102d4"
   },
   "source": [
    "### Q7) Display the Id and Name of the Product ordered after “2021-10-05”."
   ]
  },
  {
   "cell_type": "code",
   "execution_count": 19,
   "id": "5d3fc7e8",
   "metadata": {
    "id": "5d3fc7e8"
   },
   "outputs": [
    {
     "data": {
      "text/plain": [
       "[(4, 'OATS'), (1, 'GTA V')]"
      ]
     },
     "execution_count": 19,
     "metadata": {},
     "output_type": "execute_result"
    }
   ],
   "source": [
    "query4=\"\"\"select p.PRO_ID, p.PRO_NAME\n",
    "FROM product as p\n",
    "INNER JOIN product_details as pd on p.PRO_ID = pd.PRO_ID\n",
    "INNER JOIN orders as o on pd.PROD_ID = o.PROD_ID\n",
    "WHERE o.ORD_DATE > '2021-10-05'\"\"\"\n",
    "mycursor.execute(query4)\n",
    "output=mycursor.fetchall()\n",
    "output"
   ]
  },
  {
   "cell_type": "markdown",
   "id": "bdce7167",
   "metadata": {
    "id": "bdce7167"
   },
   "source": [
    "### Q8) Print the top 3 supplier name and id and rating on the basis of their rating along with the customer name who has given the rating."
   ]
  },
  {
   "cell_type": "code",
   "execution_count": 20,
   "id": "fa0cbe44",
   "metadata": {
    "id": "fa0cbe44"
   },
   "outputs": [
    {
     "data": {
      "text/plain": [
       "[(1, 'Rajesh Retails', 5, 'PULKIT'),\n",
       " (2, 'Appario Ltd.', 4, 'AMAN'),\n",
       " (5, 'Mittal Ltd.', 4, 'MEGHA')]"
      ]
     },
     "execution_count": 20,
     "metadata": {},
     "output_type": "execute_result"
    }
   ],
   "source": [
    "query5=\"\"\"select s.SUPP_ID, s.SUPP_NAME, r.RAT_RATSTARS, c.CUS_NAME\n",
    "FROM supplier as s\n",
    "INNER JOIN rating as r on s.SUPP_ID = r.SUPP_ID\n",
    "INNER JOIN customer as c on r.CUS_ID = c.CUS_ID\n",
    "ORDER BY r.RAT_RATSTARS DESC\n",
    "LIMIT 3\n",
    "\"\"\"\n",
    "mycursor.execute(query5)\n",
    "output=mycursor.fetchall()\n",
    "output"
   ]
  },
  {
   "cell_type": "markdown",
   "id": "346ec2a1",
   "metadata": {
    "id": "346ec2a1"
   },
   "source": [
    "### Q9) Display customer name and gender whose names start or end with character 'A'."
   ]
  },
  {
   "cell_type": "code",
   "execution_count": 21,
   "id": "e571b5fd",
   "metadata": {
    "id": "e571b5fd"
   },
   "outputs": [
    {
     "data": {
      "text/plain": [
       "[('AAKASH', 'M'), ('AMAN', 'M'), ('NEHA', 'F'), ('MEGHA', 'F')]"
      ]
     },
     "execution_count": 21,
     "metadata": {},
     "output_type": "execute_result"
    }
   ],
   "source": [
    "query6=\"\"\"select CUS_NAME, CUS_GENDER\n",
    "FROM CUSTOMER\n",
    "WHERE CUS_NAME LIKE 'A%' OR CUS_NAME LIKE '%A'\"\"\"\n",
    "mycursor.execute(query6)\n",
    "output=mycursor.fetchall()\n",
    "output"
   ]
  },
  {
   "cell_type": "markdown",
   "id": "d0b01f77",
   "metadata": {
    "id": "d0b01f77"
   },
   "source": [
    "### Q10) Display the total order amount of the male customers."
   ]
  },
  {
   "cell_type": "code",
   "execution_count": 23,
   "id": "c3fa76e3",
   "metadata": {
    "id": "c3fa76e3"
   },
   "outputs": [
    {
     "data": {
      "text/plain": [
       "[(Decimal('34500'),)]"
      ]
     },
     "execution_count": 23,
     "metadata": {},
     "output_type": "execute_result"
    }
   ],
   "source": [
    "query7=\"\"\"select SUM(ORD_AMOUNT) AS TOTAL_AMOUNT\n",
    "FROM ORDERS\n",
    "WHERE CUS_ID IN (\n",
    "    SELECT CUS_ID\n",
    "    FROM CUSTOMER\n",
    "    WHERE CUS_GENDER = 'M')\"\"\"\n",
    "mycursor.execute(query7)\n",
    "output=mycursor.fetchall()\n",
    "output"
   ]
  },
  {
   "cell_type": "markdown",
   "id": "ff8a9971",
   "metadata": {
    "id": "ff8a9971"
   },
   "source": [
    "### Q11) Display all the Customers left outer join with  the orders"
   ]
  },
  {
   "cell_type": "code",
   "execution_count": 27,
   "id": "a340c6d6",
   "metadata": {
    "id": "a340c6d6"
   },
   "outputs": [
    {
     "data": {
      "text/plain": [
       "[(1,\n",
       "  'AAKASH',\n",
       "  '9999999999',\n",
       "  'DELHI',\n",
       "  'M',\n",
       "  26,\n",
       "  2000,\n",
       "  datetime.date(2021, 10, 5),\n",
       "  1,\n",
       "  1),\n",
       " (2,\n",
       "  'AMAN',\n",
       "  '9785463215',\n",
       "  'NOIDA',\n",
       "  'M',\n",
       "  50,\n",
       "  2000,\n",
       "  datetime.date(2021, 10, 6),\n",
       "  2,\n",
       "  1),\n",
       " (3,\n",
       "  'NEHA',\n",
       "  '9999999998',\n",
       "  'MUMBAI',\n",
       "  'F',\n",
       "  20,\n",
       "  1500,\n",
       "  datetime.date(2021, 10, 12),\n",
       "  3,\n",
       "  5),\n",
       " (4,\n",
       "  'MEGHA',\n",
       "  '9994562399',\n",
       "  'KOLKATA',\n",
       "  'F',\n",
       "  30,\n",
       "  3500,\n",
       "  datetime.date(2021, 8, 16),\n",
       "  4,\n",
       "  3),\n",
       " (5,\n",
       "  'PULKIT',\n",
       "  '7895999999',\n",
       "  'LUCKNOW',\n",
       "  'M',\n",
       "  25,\n",
       "  30500,\n",
       "  datetime.date(2021, 9, 16),\n",
       "  5,\n",
       "  2)]"
      ]
     },
     "execution_count": 27,
     "metadata": {},
     "output_type": "execute_result"
    }
   ],
   "source": [
    "query8=\"\"\"SELECT *\n",
    "FROM CUSTOMER\n",
    "LEFT OUTER JOIN ORDERS\n",
    "on CUSTOMER.CUS_ID = ORDERS.CUS_ID\"\"\"\n",
    "mycursor.execute(query8)\n",
    "output=mycursor.fetchall()\n",
    "output"
   ]
  },
  {
   "cell_type": "markdown",
   "id": "0a72afe3",
   "metadata": {
    "id": "0a72afe3"
   },
   "source": [
    "**NOTE:** Always close an open connection once you are done with the database operations"
   ]
  },
  {
   "cell_type": "markdown",
   "id": "8c88f479",
   "metadata": {
    "id": "8c88f479"
   },
   "source": [
    "## Happy Learning:)"
   ]
  }
 ],
 "metadata": {
  "colab": {
   "name": "Lab Session  -  E-Commerce.ipynb",
   "provenance": []
  },
  "kernelspec": {
   "display_name": "Python 3 (ipykernel)",
   "language": "python",
   "name": "python3"
  },
  "language_info": {
   "codemirror_mode": {
    "name": "ipython",
    "version": 3
   },
   "file_extension": ".py",
   "mimetype": "text/x-python",
   "name": "python",
   "nbconvert_exporter": "python",
   "pygments_lexer": "ipython3",
   "version": "3.9.13"
  }
 },
 "nbformat": 4,
 "nbformat_minor": 5
}
